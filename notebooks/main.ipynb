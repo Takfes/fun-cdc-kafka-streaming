{
 "cells": [
  {
   "cell_type": "code",
   "execution_count": 1,
   "metadata": {},
   "outputs": [],
   "source": [
    "from pyspark.sql import SparkSession\n",
    "from pyspark.sql.functions import from_json, col\n",
    "from pyspark.sql.types import StructType, StructField, StringType"
   ]
  },
  {
   "cell_type": "code",
   "execution_count": null,
   "metadata": {},
   "outputs": [],
   "source": [
    "# import pyspark\n",
    "# print(pyspark.__version__)\n",
    "# import os\n",
    "# os.environ['PYSPARK_SUBMIT_ARGS'] = '--packages org.apache.spark:spark-streaming-kafka-0-10_2.12:3.5.0,org.apache.spark:spark-sql-kafka-0-10_2.12:3.5.0 pyspark-shell'"
   ]
  },
  {
   "cell_type": "code",
   "execution_count": 2,
   "metadata": {},
   "outputs": [],
   "source": [
    "KAFKA_HOST = \"broker:9092\"  # \"localhost:9092\"\n",
    "KAFKA_TOPIC = \"cdc.public.transactions\""
   ]
  },
  {
   "cell_type": "code",
   "execution_count": 3,
   "metadata": {},
   "outputs": [],
   "source": [
    "# Create a SparkSession\n",
    "\n",
    "spark = SparkSession.builder.appName(\"KafkaStructuredStreaming\").getOrCreate()\n",
    "\n",
    "# spark = SparkSession.builder \\\n",
    "#     .appName(\"KafkaIntegration\") \\\n",
    "#     .config(\"spark.jars.packages\", \"org.apache.spark:spark-sql-kafka-0-10_2.12:3.5.0\") \\\n",
    "#     .getOrCreate()"
   ]
  },
  {
   "cell_type": "code",
   "execution_count": 4,
   "metadata": {},
   "outputs": [],
   "source": [
    "# Define the schema for the \"after\" field in the JSON payload\n",
    "after_schema = StructType(\n",
    "    [\n",
    "        StructField(\"transaction_id\", StringType()),\n",
    "        StructField(\"user_id\", StringType()),\n",
    "        StructField(\"timestamp\", StringType()),\n",
    "        StructField(\"amount\", StringType()),\n",
    "        StructField(\"currency\", StringType()),\n",
    "        StructField(\"city\", StringType()),\n",
    "        StructField(\"country\", StringType()),\n",
    "        StructField(\"merchant_name\", StringType()),\n",
    "        StructField(\"payment_method\", StringType()),\n",
    "        StructField(\"ip_address\", StringType()),\n",
    "        StructField(\"voucher_code\", StringType()),\n",
    "        StructField(\"affiliateid\", StringType()),\n",
    "        StructField(\"modified_by\", StringType()),\n",
    "        StructField(\"modified_at\", StringType()),\n",
    "        StructField(\"change_info\", StringType()),\n",
    "    ]\n",
    ")"
   ]
  },
  {
   "cell_type": "code",
   "execution_count": 5,
   "metadata": {},
   "outputs": [],
   "source": [
    "# Read the Kafka stream from the beginning\n",
    "kafka_df = (\n",
    "    spark.readStream.format(\"kafka\")\n",
    "    .option(\"kafka.bootstrap.servers\", KAFKA_HOST)\n",
    "    .option(\"subscribe\", KAFKA_TOPIC)\n",
    "    .option(\"startingOffsets\", \"earliest\")\n",
    "    .load()\n",
    ")"
   ]
  },
  {
   "cell_type": "code",
   "execution_count": 8,
   "metadata": {},
   "outputs": [
    {
     "data": {
      "text/plain": [
       "False"
      ]
     },
     "execution_count": 8,
     "metadata": {},
     "output_type": "execute_result"
    }
   ],
   "source": [
    "# Temporary query to display raw Kafka messages\n",
    "raw_query = kafka_df.writeStream.outputMode(\"append\").format(\"console\").start()\n",
    "raw_query.awaitTermination(timeout=20)  # Let it run for a short period, then stop"
   ]
  },
  {
   "cell_type": "code",
   "execution_count": 9,
   "metadata": {},
   "outputs": [],
   "source": [
    "raw_query.stop()  # Stop the query to proceed with the rest of your codev"
   ]
  },
  {
   "cell_type": "code",
   "execution_count": 6,
   "metadata": {
    "scrolled": true
   },
   "outputs": [
    {
     "name": "stdout",
     "output_type": "stream",
     "text": [
      "+---+-----+-----+---------+------+---------+-------------+\n",
      "|key|value|topic|partition|offset|timestamp|timestampType|\n",
      "+---+-----+-----+---------+------+---------+-------------+\n",
      "+---+-----+-----+---------+------+---------+-------------+\n",
      "\n"
     ]
    }
   ],
   "source": [
    "raw_query = kafka_df.writeStream \\\n",
    "    .outputMode(\"append\") \\\n",
    "    .format(\"memory\") \\\n",
    "    .queryName(\"kafkaRawData\") \\\n",
    "    .start()\n",
    "\n",
    "# Then query the in-memory table after some processing time\n",
    "spark.sql(\"SELECT * FROM kafkaRawData\").show(truncate=False)"
   ]
  },
  {
   "cell_type": "code",
   "execution_count": 7,
   "metadata": {},
   "outputs": [],
   "source": [
    "raw_query.stop()"
   ]
  },
  {
   "cell_type": "code",
   "execution_count": null,
   "metadata": {},
   "outputs": [],
   "source": [
    "# Parse the JSON messages from Kafka and select the \"after\" field\n",
    "parsed_df = kafka_df.select(\n",
    "    from_json(col(\"value\").cast(\"string\"), after_schema).alias(\"after\")\n",
    ")\n",
    "\n",
    "# Flatten the \"after\" structure into individual columns\n",
    "flattened_df = parsed_df.select(\"after.*\")\n",
    "\n",
    "# Show the parsed DataFrame on the console (for demonstration purposes)\n",
    "query = flattened_df.writeStream.outputMode(\"append\").format(\"console\").start()\n",
    "query.awaitTermination()"
   ]
  }
 ],
 "metadata": {
  "kernelspec": {
   "display_name": "Python 3 (ipykernel)",
   "language": "python",
   "name": "python3"
  },
  "language_info": {
   "codemirror_mode": {
    "name": "ipython",
    "version": 3
   },
   "file_extension": ".py",
   "mimetype": "text/x-python",
   "name": "python",
   "nbconvert_exporter": "python",
   "pygments_lexer": "ipython3",
   "version": "3.11.6"
  }
 },
 "nbformat": 4,
 "nbformat_minor": 4
}
