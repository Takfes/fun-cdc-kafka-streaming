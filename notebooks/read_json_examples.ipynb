{
 "cells": [
  {
   "cell_type": "code",
   "execution_count": 15,
   "id": "7be156d2-22c8-4cfe-aed5-bd7c811a15b9",
   "metadata": {},
   "outputs": [],
   "source": [
    "from pyspark.sql import SparkSession\n",
    "from pyspark.sql.functions import from_json, col, get_json_object\n",
    "from pyspark.sql.types import StructType, StructField, StringType, LongType"
   ]
  },
  {
   "cell_type": "code",
   "execution_count": 3,
   "id": "4a7223a5-08d5-4b14-9238-18c4e7704026",
   "metadata": {},
   "outputs": [],
   "source": [
    "spark = SparkSession.builder.appName(\"ReadingJson\").getOrCreate()"
   ]
  },
  {
   "cell_type": "markdown",
   "id": "15b76d28-79ac-4d96-859d-a787ff892d7f",
   "metadata": {},
   "source": [
    "#### CONSTRUCTORS JSON"
   ]
  },
  {
   "cell_type": "code",
   "execution_count": 4,
   "id": "b113c721-7886-4f1d-a4ab-ef9390f911a5",
   "metadata": {},
   "outputs": [],
   "source": [
    "constructors_schema = \"constructorId INT, constructorRef STRING, name STRING, nationality STRING, url STRING\""
   ]
  },
  {
   "cell_type": "code",
   "execution_count": 6,
   "id": "e2846186-8c14-4246-ab0a-9622ff803bc4",
   "metadata": {},
   "outputs": [],
   "source": [
    "df = spark.read.schema(constructors_schema).json(\"constructors.json\")"
   ]
  },
  {
   "cell_type": "code",
   "execution_count": 7,
   "id": "44d8620c-f049-4ec8-967a-86741155b638",
   "metadata": {},
   "outputs": [
    {
     "data": {
      "text/plain": [
       "DataFrame[constructorId: int, constructorRef: string, name: string, nationality: string, url: string]"
      ]
     },
     "metadata": {},
     "output_type": "display_data"
    }
   ],
   "source": [
    "display(df)"
   ]
  },
  {
   "cell_type": "code",
   "execution_count": 10,
   "id": "65f41af7-9e70-4225-a134-ea65f6b394b2",
   "metadata": {},
   "outputs": [
    {
     "data": {
      "text/plain": [
       "[Row(constructorId=1, constructorRef='mclaren', name='McLaren', nationality='British', url='http://en.wikipedia.org/wiki/McLaren'),\n",
       " Row(constructorId=2, constructorRef='bmw_sauber', name='BMW Sauber', nationality='German', url='http://en.wikipedia.org/wiki/BMW_Sauber'),\n",
       " Row(constructorId=3, constructorRef='williams', name='Williams', nationality='British', url='http://en.wikipedia.org/wiki/Williams_Grand_Prix_Engineering'),\n",
       " Row(constructorId=4, constructorRef='renault', name='Renault', nationality='French', url='http://en.wikipedia.org/wiki/Renault_in_Formula_One'),\n",
       " Row(constructorId=5, constructorRef='toro_rosso', name='Toro Rosso', nationality='Italian', url='http://en.wikipedia.org/wiki/Scuderia_Toro_Rosso')]"
      ]
     },
     "execution_count": 10,
     "metadata": {},
     "output_type": "execute_result"
    }
   ],
   "source": [
    "df.take(5)"
   ]
  },
  {
   "cell_type": "code",
   "execution_count": 9,
   "id": "baa08060-f27e-4762-9419-e6020a0cfaae",
   "metadata": {},
   "outputs": [
    {
     "data": {
      "text/html": [
       "<div>\n",
       "<style scoped>\n",
       "    .dataframe tbody tr th:only-of-type {\n",
       "        vertical-align: middle;\n",
       "    }\n",
       "\n",
       "    .dataframe tbody tr th {\n",
       "        vertical-align: top;\n",
       "    }\n",
       "\n",
       "    .dataframe thead th {\n",
       "        text-align: right;\n",
       "    }\n",
       "</style>\n",
       "<table border=\"1\" class=\"dataframe\">\n",
       "  <thead>\n",
       "    <tr style=\"text-align: right;\">\n",
       "      <th></th>\n",
       "      <th>constructorId</th>\n",
       "      <th>constructorRef</th>\n",
       "      <th>name</th>\n",
       "      <th>nationality</th>\n",
       "      <th>url</th>\n",
       "    </tr>\n",
       "  </thead>\n",
       "  <tbody>\n",
       "    <tr>\n",
       "      <th>0</th>\n",
       "      <td>1</td>\n",
       "      <td>mclaren</td>\n",
       "      <td>McLaren</td>\n",
       "      <td>British</td>\n",
       "      <td>http://en.wikipedia.org/wiki/McLaren</td>\n",
       "    </tr>\n",
       "    <tr>\n",
       "      <th>1</th>\n",
       "      <td>2</td>\n",
       "      <td>bmw_sauber</td>\n",
       "      <td>BMW Sauber</td>\n",
       "      <td>German</td>\n",
       "      <td>http://en.wikipedia.org/wiki/BMW_Sauber</td>\n",
       "    </tr>\n",
       "    <tr>\n",
       "      <th>2</th>\n",
       "      <td>3</td>\n",
       "      <td>williams</td>\n",
       "      <td>Williams</td>\n",
       "      <td>British</td>\n",
       "      <td>http://en.wikipedia.org/wiki/Williams_Grand_Pr...</td>\n",
       "    </tr>\n",
       "    <tr>\n",
       "      <th>3</th>\n",
       "      <td>4</td>\n",
       "      <td>renault</td>\n",
       "      <td>Renault</td>\n",
       "      <td>French</td>\n",
       "      <td>http://en.wikipedia.org/wiki/Renault_in_Formul...</td>\n",
       "    </tr>\n",
       "    <tr>\n",
       "      <th>4</th>\n",
       "      <td>5</td>\n",
       "      <td>toro_rosso</td>\n",
       "      <td>Toro Rosso</td>\n",
       "      <td>Italian</td>\n",
       "      <td>http://en.wikipedia.org/wiki/Scuderia_Toro_Rosso</td>\n",
       "    </tr>\n",
       "    <tr>\n",
       "      <th>...</th>\n",
       "      <td>...</td>\n",
       "      <td>...</td>\n",
       "      <td>...</td>\n",
       "      <td>...</td>\n",
       "      <td>...</td>\n",
       "    </tr>\n",
       "    <tr>\n",
       "      <th>206</th>\n",
       "      <td>209</td>\n",
       "      <td>manor</td>\n",
       "      <td>Manor Marussia</td>\n",
       "      <td>British</td>\n",
       "      <td>http://en.wikipedia.org/wiki/Manor_Motorsport</td>\n",
       "    </tr>\n",
       "    <tr>\n",
       "      <th>207</th>\n",
       "      <td>210</td>\n",
       "      <td>haas</td>\n",
       "      <td>Haas F1 Team</td>\n",
       "      <td>American</td>\n",
       "      <td>http://en.wikipedia.org/wiki/Haas_F1_Team</td>\n",
       "    </tr>\n",
       "    <tr>\n",
       "      <th>208</th>\n",
       "      <td>211</td>\n",
       "      <td>racing_point</td>\n",
       "      <td>Racing Point</td>\n",
       "      <td>British</td>\n",
       "      <td>http://en.wikipedia.org/wiki/Racing_Point_F1_Team</td>\n",
       "    </tr>\n",
       "    <tr>\n",
       "      <th>209</th>\n",
       "      <td>213</td>\n",
       "      <td>alphatauri</td>\n",
       "      <td>AlphaTauri</td>\n",
       "      <td>Italian</td>\n",
       "      <td>http://en.wikipedia.org/wiki/Scuderia_AlphaTauri</td>\n",
       "    </tr>\n",
       "    <tr>\n",
       "      <th>210</th>\n",
       "      <td>214</td>\n",
       "      <td>alpine</td>\n",
       "      <td>Alpine F1 Team</td>\n",
       "      <td>French</td>\n",
       "      <td>http://en.wikipedia.org/wiki/Alpine_F1_Team</td>\n",
       "    </tr>\n",
       "  </tbody>\n",
       "</table>\n",
       "<p>211 rows × 5 columns</p>\n",
       "</div>"
      ],
      "text/plain": [
       "     constructorId constructorRef            name nationality  \\\n",
       "0                1        mclaren         McLaren     British   \n",
       "1                2     bmw_sauber      BMW Sauber      German   \n",
       "2                3       williams        Williams     British   \n",
       "3                4        renault         Renault      French   \n",
       "4                5     toro_rosso      Toro Rosso     Italian   \n",
       "..             ...            ...             ...         ...   \n",
       "206            209          manor  Manor Marussia     British   \n",
       "207            210           haas    Haas F1 Team    American   \n",
       "208            211   racing_point    Racing Point     British   \n",
       "209            213     alphatauri      AlphaTauri     Italian   \n",
       "210            214         alpine  Alpine F1 Team      French   \n",
       "\n",
       "                                                   url  \n",
       "0                 http://en.wikipedia.org/wiki/McLaren  \n",
       "1              http://en.wikipedia.org/wiki/BMW_Sauber  \n",
       "2    http://en.wikipedia.org/wiki/Williams_Grand_Pr...  \n",
       "3    http://en.wikipedia.org/wiki/Renault_in_Formul...  \n",
       "4     http://en.wikipedia.org/wiki/Scuderia_Toro_Rosso  \n",
       "..                                                 ...  \n",
       "206      http://en.wikipedia.org/wiki/Manor_Motorsport  \n",
       "207          http://en.wikipedia.org/wiki/Haas_F1_Team  \n",
       "208  http://en.wikipedia.org/wiki/Racing_Point_F1_Team  \n",
       "209   http://en.wikipedia.org/wiki/Scuderia_AlphaTauri  \n",
       "210        http://en.wikipedia.org/wiki/Alpine_F1_Team  \n",
       "\n",
       "[211 rows x 5 columns]"
      ]
     },
     "execution_count": 9,
     "metadata": {},
     "output_type": "execute_result"
    }
   ],
   "source": [
    "df.toPandas()"
   ]
  },
  {
   "cell_type": "markdown",
   "id": "1e085a9f-0d6d-43c3-81b5-2cb512c7fd95",
   "metadata": {},
   "source": [
    "#### DEBEZIUM JSON"
   ]
  },
  {
   "cell_type": "code",
   "execution_count": 42,
   "id": "84e41994-f0af-4f4b-8f89-c96059c3c279",
   "metadata": {},
   "outputs": [],
   "source": [
    "db = spark.read.option(\"multiline\", \"true\").json(\"sample.json\")"
   ]
  },
  {
   "cell_type": "code",
   "execution_count": 43,
   "id": "6a670d6c-febe-4496-845c-5ebf574feb74",
   "metadata": {},
   "outputs": [
    {
     "name": "stdout",
     "output_type": "stream",
     "text": [
      "root\n",
      " |-- payload: struct (nullable = true)\n",
      " |    |-- after: struct (nullable = true)\n",
      " |    |    |-- affiliateid: string (nullable = true)\n",
      " |    |    |-- amount: string (nullable = true)\n",
      " |    |    |-- city: string (nullable = true)\n",
      " |    |    |-- country: string (nullable = true)\n",
      " |    |    |-- currency: string (nullable = true)\n",
      " |    |    |-- ip_address: string (nullable = true)\n",
      " |    |    |-- merchant_name: string (nullable = true)\n",
      " |    |    |-- payment_method: string (nullable = true)\n",
      " |    |    |-- timestamp: long (nullable = true)\n",
      " |    |    |-- transaction_id: string (nullable = true)\n",
      " |    |    |-- user_id: string (nullable = true)\n",
      " |    |    |-- voucher_code: string (nullable = true)\n",
      " |    |-- before: string (nullable = true)\n",
      " |    |-- op: string (nullable = true)\n",
      " |    |-- source: struct (nullable = true)\n",
      " |    |    |-- connector: string (nullable = true)\n",
      " |    |    |-- db: string (nullable = true)\n",
      " |    |    |-- lsn: long (nullable = true)\n",
      " |    |    |-- name: string (nullable = true)\n",
      " |    |    |-- schema: string (nullable = true)\n",
      " |    |    |-- sequence: string (nullable = true)\n",
      " |    |    |-- snapshot: string (nullable = true)\n",
      " |    |    |-- table: string (nullable = true)\n",
      " |    |    |-- ts_ms: long (nullable = true)\n",
      " |    |    |-- txId: long (nullable = true)\n",
      " |    |    |-- version: string (nullable = true)\n",
      " |    |    |-- xmin: string (nullable = true)\n",
      " |    |-- transaction: string (nullable = true)\n",
      " |    |-- ts_ms: long (nullable = true)\n",
      " |-- schema: struct (nullable = true)\n",
      " |    |-- fields: array (nullable = true)\n",
      " |    |    |-- element: struct (containsNull = true)\n",
      " |    |    |    |-- field: string (nullable = true)\n",
      " |    |    |    |-- fields: array (nullable = true)\n",
      " |    |    |    |    |-- element: struct (containsNull = true)\n",
      " |    |    |    |    |    |-- default: string (nullable = true)\n",
      " |    |    |    |    |    |-- field: string (nullable = true)\n",
      " |    |    |    |    |    |-- name: string (nullable = true)\n",
      " |    |    |    |    |    |-- optional: boolean (nullable = true)\n",
      " |    |    |    |    |    |-- parameters: struct (nullable = true)\n",
      " |    |    |    |    |    |    |-- allowed: string (nullable = true)\n",
      " |    |    |    |    |    |-- type: string (nullable = true)\n",
      " |    |    |    |    |    |-- version: long (nullable = true)\n",
      " |    |    |    |-- name: string (nullable = true)\n",
      " |    |    |    |-- optional: boolean (nullable = true)\n",
      " |    |    |    |-- type: string (nullable = true)\n",
      " |    |    |    |-- version: long (nullable = true)\n",
      " |    |-- name: string (nullable = true)\n",
      " |    |-- optional: boolean (nullable = true)\n",
      " |    |-- type: string (nullable = true)\n",
      " |    |-- version: long (nullable = true)\n",
      "\n"
     ]
    }
   ],
   "source": [
    "db.printSchema()"
   ]
  },
  {
   "cell_type": "code",
   "execution_count": 49,
   "id": "30027f47-3653-484b-95f2-72ade7313799",
   "metadata": {},
   "outputs": [
    {
     "data": {
      "text/html": [
       "<div>\n",
       "<style scoped>\n",
       "    .dataframe tbody tr th:only-of-type {\n",
       "        vertical-align: middle;\n",
       "    }\n",
       "\n",
       "    .dataframe tbody tr th {\n",
       "        vertical-align: top;\n",
       "    }\n",
       "\n",
       "    .dataframe thead th {\n",
       "        text-align: right;\n",
       "    }\n",
       "</style>\n",
       "<table border=\"1\" class=\"dataframe\">\n",
       "  <thead>\n",
       "    <tr style=\"text-align: right;\">\n",
       "      <th></th>\n",
       "      <th>affiliateid</th>\n",
       "      <th>amount</th>\n",
       "      <th>city</th>\n",
       "      <th>country</th>\n",
       "      <th>currency</th>\n",
       "      <th>ip_address</th>\n",
       "      <th>merchant_name</th>\n",
       "      <th>payment_method</th>\n",
       "      <th>timestamp</th>\n",
       "      <th>transaction_id</th>\n",
       "      <th>user_id</th>\n",
       "      <th>voucher_code</th>\n",
       "    </tr>\n",
       "  </thead>\n",
       "  <tbody>\n",
       "    <tr>\n",
       "      <th>0</th>\n",
       "      <td>ef7b99bb-5be4-47f9-8136-75cae8d24331</td>\n",
       "      <td>18.04</td>\n",
       "      <td>Adamchester</td>\n",
       "      <td>Ghana</td>\n",
       "      <td>USD</td>\n",
       "      <td>125.111.176.120</td>\n",
       "      <td>Perry, Miller and Zimmerman</td>\n",
       "      <td>debit_card</td>\n",
       "      <td>1709846057000000</td>\n",
       "      <td>fd48ad7b-f02a-4c6b-8bb0-56adbd677838</td>\n",
       "      <td>robert38</td>\n",
       "      <td></td>\n",
       "    </tr>\n",
       "  </tbody>\n",
       "</table>\n",
       "</div>"
      ],
      "text/plain": [
       "                            affiliateid amount         city country currency  \\\n",
       "0  ef7b99bb-5be4-47f9-8136-75cae8d24331  18.04  Adamchester   Ghana      USD   \n",
       "\n",
       "        ip_address                merchant_name payment_method  \\\n",
       "0  125.111.176.120  Perry, Miller and Zimmerman     debit_card   \n",
       "\n",
       "          timestamp                        transaction_id   user_id  \\\n",
       "0  1709846057000000  fd48ad7b-f02a-4c6b-8bb0-56adbd677838  robert38   \n",
       "\n",
       "  voucher_code  \n",
       "0               "
      ]
     },
     "execution_count": 49,
     "metadata": {},
     "output_type": "execute_result"
    }
   ],
   "source": [
    "db.select(\"payload.after.*\").toPandas()"
   ]
  }
 ],
 "metadata": {
  "kernelspec": {
   "display_name": "Python 3 (ipykernel)",
   "language": "python",
   "name": "python3"
  },
  "language_info": {
   "codemirror_mode": {
    "name": "ipython",
    "version": 3
   },
   "file_extension": ".py",
   "mimetype": "text/x-python",
   "name": "python",
   "nbconvert_exporter": "python",
   "pygments_lexer": "ipython3",
   "version": "3.11.6"
  }
 },
 "nbformat": 4,
 "nbformat_minor": 5
}
